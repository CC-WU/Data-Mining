{
 "cells": [
  {
   "cell_type": "markdown",
   "metadata": {},
   "source": [
    "# Random Forests"
   ]
  },
  {
   "cell_type": "markdown",
   "metadata": {},
   "source": [
    "## 載入套件"
   ]
  },
  {
   "cell_type": "code",
   "execution_count": 174,
   "metadata": {},
   "outputs": [],
   "source": [
    "import pandas as pd\n",
    "import numpy as np\n",
    "import matplotlib.pyplot as plt\n",
    "import seaborn as sns\n",
    "from sklearn.tree import DecisionTreeClassifier\n",
    "from sklearn.metrics import classification_report,confusion_matrix\n",
    "from sklearn.ensemble import RandomForestClassifier\n",
    "from sklearn.model_selection import cross_val_score\n",
    "from sklearn.model_selection import train_test_split\n",
    "from sklearn.utils import shuffle\n",
    "\n",
    "%matplotlib inline\n",
    "\n",
    "preprocess_status = '_mean' # read csv file name and save model file name"
   ]
  },
  {
   "cell_type": "markdown",
   "metadata": {},
   "source": [
    "## read train dataset"
   ]
  },
  {
   "cell_type": "code",
   "execution_count": 175,
   "metadata": {},
   "outputs": [
    {
     "data": {
      "text/html": [
       "<div>\n",
       "<style scoped>\n",
       "    .dataframe tbody tr th:only-of-type {\n",
       "        vertical-align: middle;\n",
       "    }\n",
       "\n",
       "    .dataframe tbody tr th {\n",
       "        vertical-align: top;\n",
       "    }\n",
       "\n",
       "    .dataframe thead th {\n",
       "        text-align: right;\n",
       "    }\n",
       "</style>\n",
       "<table border=\"1\" class=\"dataframe\">\n",
       "  <thead>\n",
       "    <tr style=\"text-align: right;\">\n",
       "      <th></th>\n",
       "      <th>AGE</th>\n",
       "      <th>SEX</th>\n",
       "      <th>LOS</th>\n",
       "      <th>Joint</th>\n",
       "      <th>Drain</th>\n",
       "      <th>Cemented</th>\n",
       "      <th>Commercial_ALBC</th>\n",
       "      <th>Non_commercial_ALBC</th>\n",
       "      <th>cci_index</th>\n",
       "      <th>elx_index</th>\n",
       "      <th>...</th>\n",
       "      <th>Fluid and Electrolyte Disorders</th>\n",
       "      <th>Blood Loss Anemia</th>\n",
       "      <th>Deficiency Anemia</th>\n",
       "      <th>Anemia</th>\n",
       "      <th>Alcohol Abuse</th>\n",
       "      <th>Drug Abuse</th>\n",
       "      <th>Psychoses</th>\n",
       "      <th>Depression</th>\n",
       "      <th>Psyciatric disorder</th>\n",
       "      <th>outcome</th>\n",
       "    </tr>\n",
       "  </thead>\n",
       "  <tbody>\n",
       "    <tr>\n",
       "      <th>0</th>\n",
       "      <td>59</td>\n",
       "      <td>1</td>\n",
       "      <td>8.0</td>\n",
       "      <td>0</td>\n",
       "      <td>1</td>\n",
       "      <td>1</td>\n",
       "      <td>0</td>\n",
       "      <td>1</td>\n",
       "      <td>0</td>\n",
       "      <td>0</td>\n",
       "      <td>...</td>\n",
       "      <td>0</td>\n",
       "      <td>0</td>\n",
       "      <td>0</td>\n",
       "      <td>0</td>\n",
       "      <td>0</td>\n",
       "      <td>0</td>\n",
       "      <td>0</td>\n",
       "      <td>0</td>\n",
       "      <td>0</td>\n",
       "      <td>1</td>\n",
       "    </tr>\n",
       "    <tr>\n",
       "      <th>1</th>\n",
       "      <td>69</td>\n",
       "      <td>0</td>\n",
       "      <td>5.0</td>\n",
       "      <td>0</td>\n",
       "      <td>1</td>\n",
       "      <td>1</td>\n",
       "      <td>1</td>\n",
       "      <td>0</td>\n",
       "      <td>1</td>\n",
       "      <td>1</td>\n",
       "      <td>...</td>\n",
       "      <td>0</td>\n",
       "      <td>0</td>\n",
       "      <td>0</td>\n",
       "      <td>0</td>\n",
       "      <td>0</td>\n",
       "      <td>0</td>\n",
       "      <td>0</td>\n",
       "      <td>0</td>\n",
       "      <td>0</td>\n",
       "      <td>1</td>\n",
       "    </tr>\n",
       "    <tr>\n",
       "      <th>2</th>\n",
       "      <td>80</td>\n",
       "      <td>0</td>\n",
       "      <td>8.0</td>\n",
       "      <td>0</td>\n",
       "      <td>1</td>\n",
       "      <td>1</td>\n",
       "      <td>0</td>\n",
       "      <td>1</td>\n",
       "      <td>1</td>\n",
       "      <td>1</td>\n",
       "      <td>...</td>\n",
       "      <td>0</td>\n",
       "      <td>0</td>\n",
       "      <td>0</td>\n",
       "      <td>0</td>\n",
       "      <td>0</td>\n",
       "      <td>0</td>\n",
       "      <td>0</td>\n",
       "      <td>0</td>\n",
       "      <td>0</td>\n",
       "      <td>1</td>\n",
       "    </tr>\n",
       "  </tbody>\n",
       "</table>\n",
       "<p>3 rows × 67 columns</p>\n",
       "</div>"
      ],
      "text/plain": [
       "   AGE  SEX  LOS  Joint  Drain  Cemented  Commercial_ALBC  \\\n",
       "0   59    1  8.0      0      1         1                0   \n",
       "1   69    0  5.0      0      1         1                1   \n",
       "2   80    0  8.0      0      1         1                0   \n",
       "\n",
       "   Non_commercial_ALBC  cci_index  elx_index  ...  \\\n",
       "0                    1          0          0  ...   \n",
       "1                    0          1          1  ...   \n",
       "2                    1          1          1  ...   \n",
       "\n",
       "   Fluid and Electrolyte Disorders  Blood Loss Anemia  Deficiency Anemia  \\\n",
       "0                                0                  0                  0   \n",
       "1                                0                  0                  0   \n",
       "2                                0                  0                  0   \n",
       "\n",
       "   Anemia  Alcohol Abuse  Drug Abuse  Psychoses  Depression  \\\n",
       "0       0              0           0          0           0   \n",
       "1       0              0           0          0           0   \n",
       "2       0              0           0          0           0   \n",
       "\n",
       "   Psyciatric disorder  outcome  \n",
       "0                    0        1  \n",
       "1                    0        1  \n",
       "2                    0        1  \n",
       "\n",
       "[3 rows x 67 columns]"
      ]
     },
     "execution_count": 175,
     "metadata": {},
     "output_type": "execute_result"
    }
   ],
   "source": [
    "df_tr = pd.read_excel(\"./preprocess/output_tr\" + preprocess_status + \".xlsx\", engine='openpyxl')\n",
    "# df = pd.read_csv(\"final/tr.csv\")\n",
    "df_tr.head(3)"
   ]
  },
  {
   "cell_type": "markdown",
   "metadata": {},
   "source": [
    "## read test dataset"
   ]
  },
  {
   "cell_type": "code",
   "execution_count": null,
   "metadata": {},
   "outputs": [],
   "source": [
    "df_ts = pd.read_excel(\"ts.xlsx\", engine='openpyxl')\n",
    "# df = pd.read_csv(\"final/ts.csv\")\n",
    "df_ts.head(3)"
   ]
  },
  {
   "cell_type": "markdown",
   "metadata": {},
   "source": [
    "## 將資料分成訓練組及測試組"
   ]
  },
  {
   "cell_type": "code",
   "execution_count": 176,
   "metadata": {},
   "outputs": [
    {
     "data": {
      "text/html": [
       "<div>\n",
       "<style scoped>\n",
       "    .dataframe tbody tr th:only-of-type {\n",
       "        vertical-align: middle;\n",
       "    }\n",
       "\n",
       "    .dataframe tbody tr th {\n",
       "        vertical-align: top;\n",
       "    }\n",
       "\n",
       "    .dataframe thead th {\n",
       "        text-align: right;\n",
       "    }\n",
       "</style>\n",
       "<table border=\"1\" class=\"dataframe\">\n",
       "  <thead>\n",
       "    <tr style=\"text-align: right;\">\n",
       "      <th></th>\n",
       "      <th>AGE</th>\n",
       "      <th>SEX</th>\n",
       "      <th>LOS</th>\n",
       "      <th>Joint</th>\n",
       "      <th>Drain</th>\n",
       "      <th>Cemented</th>\n",
       "      <th>Commercial_ALBC</th>\n",
       "      <th>Non_commercial_ALBC</th>\n",
       "      <th>cci_index</th>\n",
       "      <th>elx_index</th>\n",
       "      <th>...</th>\n",
       "      <th>Fluid and Electrolyte Disorders</th>\n",
       "      <th>Blood Loss Anemia</th>\n",
       "      <th>Deficiency Anemia</th>\n",
       "      <th>Anemia</th>\n",
       "      <th>Alcohol Abuse</th>\n",
       "      <th>Drug Abuse</th>\n",
       "      <th>Psychoses</th>\n",
       "      <th>Depression</th>\n",
       "      <th>Psyciatric disorder</th>\n",
       "      <th>outcome</th>\n",
       "    </tr>\n",
       "  </thead>\n",
       "  <tbody>\n",
       "    <tr>\n",
       "      <th>74500</th>\n",
       "      <td>61</td>\n",
       "      <td>1</td>\n",
       "      <td>6.00</td>\n",
       "      <td>0</td>\n",
       "      <td>1</td>\n",
       "      <td>1</td>\n",
       "      <td>0</td>\n",
       "      <td>1</td>\n",
       "      <td>0</td>\n",
       "      <td>0</td>\n",
       "      <td>...</td>\n",
       "      <td>0</td>\n",
       "      <td>0</td>\n",
       "      <td>0</td>\n",
       "      <td>0</td>\n",
       "      <td>0</td>\n",
       "      <td>0</td>\n",
       "      <td>0</td>\n",
       "      <td>0</td>\n",
       "      <td>0</td>\n",
       "      <td>1</td>\n",
       "    </tr>\n",
       "    <tr>\n",
       "      <th>53930</th>\n",
       "      <td>44</td>\n",
       "      <td>0</td>\n",
       "      <td>6.89</td>\n",
       "      <td>1</td>\n",
       "      <td>1</td>\n",
       "      <td>0</td>\n",
       "      <td>0</td>\n",
       "      <td>0</td>\n",
       "      <td>2</td>\n",
       "      <td>1</td>\n",
       "      <td>...</td>\n",
       "      <td>0</td>\n",
       "      <td>0</td>\n",
       "      <td>0</td>\n",
       "      <td>0</td>\n",
       "      <td>0</td>\n",
       "      <td>0</td>\n",
       "      <td>0</td>\n",
       "      <td>0</td>\n",
       "      <td>0</td>\n",
       "      <td>1</td>\n",
       "    </tr>\n",
       "    <tr>\n",
       "      <th>30800</th>\n",
       "      <td>71</td>\n",
       "      <td>1</td>\n",
       "      <td>4.00</td>\n",
       "      <td>0</td>\n",
       "      <td>1</td>\n",
       "      <td>1</td>\n",
       "      <td>0</td>\n",
       "      <td>1</td>\n",
       "      <td>0</td>\n",
       "      <td>1</td>\n",
       "      <td>...</td>\n",
       "      <td>0</td>\n",
       "      <td>0</td>\n",
       "      <td>0</td>\n",
       "      <td>0</td>\n",
       "      <td>0</td>\n",
       "      <td>0</td>\n",
       "      <td>0</td>\n",
       "      <td>0</td>\n",
       "      <td>0</td>\n",
       "      <td>0</td>\n",
       "    </tr>\n",
       "    <tr>\n",
       "      <th>71416</th>\n",
       "      <td>74</td>\n",
       "      <td>0</td>\n",
       "      <td>7.75</td>\n",
       "      <td>0</td>\n",
       "      <td>1</td>\n",
       "      <td>1</td>\n",
       "      <td>0</td>\n",
       "      <td>1</td>\n",
       "      <td>3</td>\n",
       "      <td>2</td>\n",
       "      <td>...</td>\n",
       "      <td>0</td>\n",
       "      <td>0</td>\n",
       "      <td>0</td>\n",
       "      <td>0</td>\n",
       "      <td>0</td>\n",
       "      <td>0</td>\n",
       "      <td>0</td>\n",
       "      <td>0</td>\n",
       "      <td>0</td>\n",
       "      <td>1</td>\n",
       "    </tr>\n",
       "    <tr>\n",
       "      <th>31972</th>\n",
       "      <td>80</td>\n",
       "      <td>1</td>\n",
       "      <td>7.00</td>\n",
       "      <td>0</td>\n",
       "      <td>1</td>\n",
       "      <td>1</td>\n",
       "      <td>0</td>\n",
       "      <td>1</td>\n",
       "      <td>0</td>\n",
       "      <td>1</td>\n",
       "      <td>...</td>\n",
       "      <td>0</td>\n",
       "      <td>0</td>\n",
       "      <td>0</td>\n",
       "      <td>0</td>\n",
       "      <td>0</td>\n",
       "      <td>0</td>\n",
       "      <td>0</td>\n",
       "      <td>0</td>\n",
       "      <td>0</td>\n",
       "      <td>0</td>\n",
       "    </tr>\n",
       "    <tr>\n",
       "      <th>...</th>\n",
       "      <td>...</td>\n",
       "      <td>...</td>\n",
       "      <td>...</td>\n",
       "      <td>...</td>\n",
       "      <td>...</td>\n",
       "      <td>...</td>\n",
       "      <td>...</td>\n",
       "      <td>...</td>\n",
       "      <td>...</td>\n",
       "      <td>...</td>\n",
       "      <td>...</td>\n",
       "      <td>...</td>\n",
       "      <td>...</td>\n",
       "      <td>...</td>\n",
       "      <td>...</td>\n",
       "      <td>...</td>\n",
       "      <td>...</td>\n",
       "      <td>...</td>\n",
       "      <td>...</td>\n",
       "      <td>...</td>\n",
       "      <td>...</td>\n",
       "    </tr>\n",
       "    <tr>\n",
       "      <th>42208</th>\n",
       "      <td>51</td>\n",
       "      <td>0</td>\n",
       "      <td>3.00</td>\n",
       "      <td>1</td>\n",
       "      <td>0</td>\n",
       "      <td>0</td>\n",
       "      <td>0</td>\n",
       "      <td>0</td>\n",
       "      <td>0</td>\n",
       "      <td>0</td>\n",
       "      <td>...</td>\n",
       "      <td>0</td>\n",
       "      <td>0</td>\n",
       "      <td>0</td>\n",
       "      <td>0</td>\n",
       "      <td>0</td>\n",
       "      <td>0</td>\n",
       "      <td>0</td>\n",
       "      <td>0</td>\n",
       "      <td>0</td>\n",
       "      <td>0</td>\n",
       "    </tr>\n",
       "    <tr>\n",
       "      <th>48631</th>\n",
       "      <td>67</td>\n",
       "      <td>1</td>\n",
       "      <td>4.00</td>\n",
       "      <td>0</td>\n",
       "      <td>0</td>\n",
       "      <td>1</td>\n",
       "      <td>0</td>\n",
       "      <td>1</td>\n",
       "      <td>9</td>\n",
       "      <td>4</td>\n",
       "      <td>...</td>\n",
       "      <td>0</td>\n",
       "      <td>0</td>\n",
       "      <td>0</td>\n",
       "      <td>0</td>\n",
       "      <td>0</td>\n",
       "      <td>0</td>\n",
       "      <td>0</td>\n",
       "      <td>0</td>\n",
       "      <td>0</td>\n",
       "      <td>0</td>\n",
       "    </tr>\n",
       "    <tr>\n",
       "      <th>89944</th>\n",
       "      <td>76</td>\n",
       "      <td>0</td>\n",
       "      <td>4.00</td>\n",
       "      <td>0</td>\n",
       "      <td>0</td>\n",
       "      <td>0</td>\n",
       "      <td>0</td>\n",
       "      <td>0</td>\n",
       "      <td>0</td>\n",
       "      <td>0</td>\n",
       "      <td>...</td>\n",
       "      <td>0</td>\n",
       "      <td>0</td>\n",
       "      <td>0</td>\n",
       "      <td>0</td>\n",
       "      <td>0</td>\n",
       "      <td>0</td>\n",
       "      <td>0</td>\n",
       "      <td>0</td>\n",
       "      <td>0</td>\n",
       "      <td>1</td>\n",
       "    </tr>\n",
       "    <tr>\n",
       "      <th>6436</th>\n",
       "      <td>67</td>\n",
       "      <td>1</td>\n",
       "      <td>3.00</td>\n",
       "      <td>0</td>\n",
       "      <td>0</td>\n",
       "      <td>1</td>\n",
       "      <td>0</td>\n",
       "      <td>1</td>\n",
       "      <td>0</td>\n",
       "      <td>0</td>\n",
       "      <td>...</td>\n",
       "      <td>0</td>\n",
       "      <td>0</td>\n",
       "      <td>0</td>\n",
       "      <td>0</td>\n",
       "      <td>0</td>\n",
       "      <td>0</td>\n",
       "      <td>0</td>\n",
       "      <td>0</td>\n",
       "      <td>0</td>\n",
       "      <td>0</td>\n",
       "    </tr>\n",
       "    <tr>\n",
       "      <th>33203</th>\n",
       "      <td>66</td>\n",
       "      <td>0</td>\n",
       "      <td>6.00</td>\n",
       "      <td>0</td>\n",
       "      <td>1</td>\n",
       "      <td>1</td>\n",
       "      <td>0</td>\n",
       "      <td>1</td>\n",
       "      <td>6</td>\n",
       "      <td>5</td>\n",
       "      <td>...</td>\n",
       "      <td>0</td>\n",
       "      <td>0</td>\n",
       "      <td>0</td>\n",
       "      <td>0</td>\n",
       "      <td>0</td>\n",
       "      <td>0</td>\n",
       "      <td>0</td>\n",
       "      <td>1</td>\n",
       "      <td>1</td>\n",
       "      <td>0</td>\n",
       "    </tr>\n",
       "  </tbody>\n",
       "</table>\n",
       "<p>96538 rows × 67 columns</p>\n",
       "</div>"
      ],
      "text/plain": [
       "       AGE  SEX   LOS  Joint  Drain  Cemented  Commercial_ALBC  \\\n",
       "74500   61    1  6.00      0      1         1                0   \n",
       "53930   44    0  6.89      1      1         0                0   \n",
       "30800   71    1  4.00      0      1         1                0   \n",
       "71416   74    0  7.75      0      1         1                0   \n",
       "31972   80    1  7.00      0      1         1                0   \n",
       "...    ...  ...   ...    ...    ...       ...              ...   \n",
       "42208   51    0  3.00      1      0         0                0   \n",
       "48631   67    1  4.00      0      0         1                0   \n",
       "89944   76    0  4.00      0      0         0                0   \n",
       "6436    67    1  3.00      0      0         1                0   \n",
       "33203   66    0  6.00      0      1         1                0   \n",
       "\n",
       "       Non_commercial_ALBC  cci_index  elx_index  ...  \\\n",
       "74500                    1          0          0  ...   \n",
       "53930                    0          2          1  ...   \n",
       "30800                    1          0          1  ...   \n",
       "71416                    1          3          2  ...   \n",
       "31972                    1          0          1  ...   \n",
       "...                    ...        ...        ...  ...   \n",
       "42208                    0          0          0  ...   \n",
       "48631                    1          9          4  ...   \n",
       "89944                    0          0          0  ...   \n",
       "6436                     1          0          0  ...   \n",
       "33203                    1          6          5  ...   \n",
       "\n",
       "       Fluid and Electrolyte Disorders  Blood Loss Anemia  Deficiency Anemia  \\\n",
       "74500                                0                  0                  0   \n",
       "53930                                0                  0                  0   \n",
       "30800                                0                  0                  0   \n",
       "71416                                0                  0                  0   \n",
       "31972                                0                  0                  0   \n",
       "...                                ...                ...                ...   \n",
       "42208                                0                  0                  0   \n",
       "48631                                0                  0                  0   \n",
       "89944                                0                  0                  0   \n",
       "6436                                 0                  0                  0   \n",
       "33203                                0                  0                  0   \n",
       "\n",
       "       Anemia  Alcohol Abuse  Drug Abuse  Psychoses  Depression  \\\n",
       "74500       0              0           0          0           0   \n",
       "53930       0              0           0          0           0   \n",
       "30800       0              0           0          0           0   \n",
       "71416       0              0           0          0           0   \n",
       "31972       0              0           0          0           0   \n",
       "...       ...            ...         ...        ...         ...   \n",
       "42208       0              0           0          0           0   \n",
       "48631       0              0           0          0           0   \n",
       "89944       0              0           0          0           0   \n",
       "6436        0              0           0          0           0   \n",
       "33203       0              0           0          0           1   \n",
       "\n",
       "       Psyciatric disorder  outcome  \n",
       "74500                    0        1  \n",
       "53930                    0        1  \n",
       "30800                    0        0  \n",
       "71416                    0        1  \n",
       "31972                    0        0  \n",
       "...                    ...      ...  \n",
       "42208                    0        0  \n",
       "48631                    0        0  \n",
       "89944                    0        1  \n",
       "6436                     0        0  \n",
       "33203                    1        0  \n",
       "\n",
       "[96538 rows x 67 columns]"
      ]
     },
     "execution_count": 176,
     "metadata": {},
     "output_type": "execute_result"
    }
   ],
   "source": [
    "df_tr_shuffle = shuffle(df_tr)\n",
    "df_tr_shuffle"
   ]
  },
  {
   "cell_type": "code",
   "execution_count": 177,
   "metadata": {},
   "outputs": [],
   "source": [
    "X = df_tr_shuffle.drop('outcome', 1)\n",
    "y = df_tr_shuffle['outcome']"
   ]
  },
  {
   "cell_type": "code",
   "execution_count": 178,
   "metadata": {},
   "outputs": [
    {
     "name": "stdout",
     "output_type": "stream",
     "text": [
      "(77230, 66)\n",
      "(77230,)\n",
      "(19308, 66)\n",
      "(19308,)\n"
     ]
    }
   ],
   "source": [
    "X_train, X_test, y_train, y_test = train_test_split(X, y,test_size=0.2,random_state=0)\n",
    "\n",
    "\n",
    "print(X_train.shape)\n",
    "print(y_train.shape)\n",
    "print(X_test.shape)\n",
    "print(y_test.shape)"
   ]
  },
  {
   "cell_type": "markdown",
   "metadata": {},
   "source": [
    "## DT 決策樹"
   ]
  },
  {
   "cell_type": "code",
   "execution_count": 166,
   "metadata": {},
   "outputs": [
    {
     "data": {
      "text/plain": [
       "DecisionTreeClassifier(criterion='entropy', max_features='auto',\n",
       "                       min_samples_split=6)"
      ]
     },
     "execution_count": 166,
     "metadata": {},
     "output_type": "execute_result"
    }
   ],
   "source": [
    "#使用決策樹演算法\n",
    "dtree = DecisionTreeClassifier(splitter='best', criterion='entropy', max_features='auto', min_samples_split=6)\n",
    "dtree.fit(X_train,y_train)"
   ]
  },
  {
   "cell_type": "code",
   "execution_count": 167,
   "metadata": {},
   "outputs": [
    {
     "name": "stdout",
     "output_type": "stream",
     "text": [
      "              precision    recall  f1-score   support\n",
      "\n",
      "           0       0.96      0.95      0.95      9691\n",
      "           1       0.95      0.96      0.95      9601\n",
      "\n",
      "    accuracy                           0.95     19292\n",
      "   macro avg       0.95      0.95      0.95     19292\n",
      "weighted avg       0.95      0.95      0.95     19292\n",
      "\n"
     ]
    }
   ],
   "source": [
    "#評估決策樹模型好壞\n",
    "predictions = dtree.predict(X_test)\n",
    "print(classification_report(y_test,predictions))"
   ]
  },
  {
   "cell_type": "code",
   "execution_count": 171,
   "metadata": {},
   "outputs": [
    {
     "data": {
      "text/plain": [
       "['./model/c4.5/c4.5_best__mode_over.joblib']"
      ]
     },
     "execution_count": 171,
     "metadata": {},
     "output_type": "execute_result"
    }
   ],
   "source": [
    "# save\n",
    "import joblib\n",
    "joblib.dump(dtree, \"./model/c4.5/c4.5\" + preprocess_status + \".joblib\")"
   ]
  },
  {
   "cell_type": "markdown",
   "metadata": {},
   "source": [
    "## RF 隨機森林"
   ]
  },
  {
   "cell_type": "code",
   "execution_count": 47,
   "metadata": {},
   "outputs": [],
   "source": [
    "# define model\n",
    "#weights = {0:1.0, 1:55.0}\n",
    "#rfc = RandomForestClassifier(n_estimators=100, class_weight=weights)"
   ]
  },
  {
   "cell_type": "code",
   "execution_count": 243,
   "metadata": {},
   "outputs": [],
   "source": [
    "#n_estimator代表要使用多少CART樹（CART樹為使用GINI算法的決策樹）\n",
    "rfc = RandomForestClassifier(n_estimators=100, criterion='gini')"
   ]
  },
  {
   "cell_type": "code",
   "execution_count": 244,
   "metadata": {},
   "outputs": [
    {
     "data": {
      "text/plain": [
       "0.9819763828464885"
      ]
     },
     "execution_count": 244,
     "metadata": {},
     "output_type": "execute_result"
    }
   ],
   "source": [
    "#從訓練組資料中建立隨機森林模型\n",
    "rfc.fit(X_train,y_train)\n",
    "\n",
    "#預測測試組的駝背是否發生\n",
    "predictions = rfc.predict(X_test)\n",
    "\n",
    "# 檢驗模型的正確率\n",
    "rfc.score(X_test,y_test)"
   ]
  },
  {
   "cell_type": "code",
   "execution_count": 49,
   "metadata": {},
   "outputs": [
    {
     "data": {
      "text/plain": [
       "['./model/rf/random_forest_unbalance.joblib']"
      ]
     },
     "execution_count": 49,
     "metadata": {},
     "output_type": "execute_result"
    }
   ],
   "source": [
    "# save\n",
    "import joblib\n",
    "joblib.dump(rfc, \"./model/rf/random_forest\" + preprocess_status + \".joblib\")"
   ]
  },
  {
   "cell_type": "markdown",
   "metadata": {},
   "source": [
    "## 視覺化 subtree"
   ]
  },
  {
   "cell_type": "code",
   "execution_count": null,
   "metadata": {},
   "outputs": [],
   "source": [
    "import graphviz \n",
    "from sklearn import tree\n",
    "\n",
    "dot_data = tree.export_graphviz(estimator, out_file=None) \n",
    "graph = graphviz.Source(dot_data) \n",
    "graph.render(\"iris\") "
   ]
  },
  {
   "cell_type": "code",
   "execution_count": null,
   "metadata": {},
   "outputs": [],
   "source": [
    "dot_data = tree.export_graphviz(estimator, out_file=None, \n",
    "                     feature_names=list(X.columns),  \n",
    "                     class_names=list(y.to_frame().columns),  \n",
    "                     filled=True, rounded=True,  \n",
    "                     special_characters=True)  \n",
    "graph = graphviz.Source(dot_data)  \n",
    "graph "
   ]
  },
  {
   "cell_type": "markdown",
   "metadata": {},
   "source": [
    "## Evaluate"
   ]
  },
  {
   "cell_type": "code",
   "execution_count": 245,
   "metadata": {},
   "outputs": [
    {
     "name": "stdout",
     "output_type": "stream",
     "text": [
      "[[9408  190]\n",
      " [ 158 9552]]\n"
     ]
    }
   ],
   "source": [
    "#利用confusion matrix來看實際及預測的差異\n",
    "confu_matrix = confusion_matrix(y_test,predictions)\n",
    "print(confu_matrix)"
   ]
  },
  {
   "cell_type": "code",
   "execution_count": 246,
   "metadata": {},
   "outputs": [
    {
     "name": "stdout",
     "output_type": "stream",
     "text": [
      "              precision    recall  f1-score   support\n",
      "\n",
      "           0       0.98      0.98      0.98      9598\n",
      "           1       0.98      0.98      0.98      9710\n",
      "\n",
      "    accuracy                           0.98     19308\n",
      "   macro avg       0.98      0.98      0.98     19308\n",
      "weighted avg       0.98      0.98      0.98     19308\n",
      "\n"
     ]
    }
   ],
   "source": [
    "#利用classification report來看precision、recall、f1-score、support\n",
    "print(classification_report(y_test,predictions))"
   ]
  },
  {
   "cell_type": "code",
   "execution_count": 247,
   "metadata": {},
   "outputs": [
    {
     "name": "stdout",
     "output_type": "stream",
     "text": [
      "acc:  0.9819763828464885\n",
      "f1:  0.9818409517845961\n",
      "ppv:  0.9802042092102521\n",
      "recall:  0.9834831695588543\n",
      "mcc:  0.9639561557134028\n",
      "auc:  0.9819899937303612\n"
     ]
    }
   ],
   "source": [
    "import math\n",
    "\n",
    "\n",
    "#      |  (a)  |  (b)  |\n",
    "# --------------------------\n",
    "# (a)  |  TP   |  FN   |\n",
    "# --------------------------\n",
    "# (b)  |  FP   |  TN   |\n",
    "\n",
    "tp = confu_matrix[0, 0]\n",
    "fp = confu_matrix[0, 1]\n",
    "fn = confu_matrix[1, 0]\n",
    "tn = confu_matrix[1, 1]\n",
    "\n",
    "acc = (tp + tn) / (tp + fp + tn + fn)\n",
    "f1 = (2 * tp) / (2 * tp + fp + fn)\n",
    "ppv = (tp) / (tp + fp)\n",
    "recall = (tp) / (tp + fn)\n",
    "mcc = ((tp * tn) - (fp * fn)) / (math.sqrt((tp + fp) * (tp + fn) * (tn + fp) * (tn + fn)))\n",
    "\n",
    "tpr = tp / (tp + fn)\n",
    "fpr = fp / (fp + tn) \n",
    "auc = 1/2 - fpr/2 + tpr/2\n",
    "\n",
    "\n",
    "print('acc: ', acc)\n",
    "print('f1: ', f1)\n",
    "print('ppv: ', ppv)\n",
    "print('recall: ', recall)\n",
    "print('mcc: ', mcc)\n",
    "print('auc: ', auc)"
   ]
  },
  {
   "cell_type": "code",
   "execution_count": 248,
   "metadata": {},
   "outputs": [
    {
     "data": {
      "image/png": "[encoded data removed]",
      "text/plain": [
       "<Figure size 432x288 with 1 Axes>"
      ]
     },
     "metadata": {
      "needs_background": "light"
     },
     "output_type": "display_data"
    }
   ],
   "source": [
    "from sklearn import metrics\n",
    "y_pred_proba = rfc.predict_proba(X_test)[::,1]\n",
    "fpr, tpr, _ = metrics.roc_curve(y_test,  y_pred_proba)\n",
    "auc = metrics.roc_auc_score(y_test, y_pred_proba)\n",
    "plt.plot(fpr,tpr,label=\"data 1, auc=\"+str(auc))\n",
    "plt.legend(loc=4)\n",
    "plt.show()"
   ]
  },
  {
   "cell_type": "markdown",
   "metadata": {},
   "source": [
    "## 視覺化"
   ]
  },
  {
   "cell_type": "code",
   "execution_count": 249,
   "metadata": {},
   "outputs": [
    {
     "data": {
      "text/plain": [
       "<AxesSubplot:>"
      ]
     },
     "execution_count": 249,
     "metadata": {},
     "output_type": "execute_result"
    },
    {
     "data": {
      "image/png": "[encoded data removed]",
      "text/plain": [
       "<Figure size 720x504 with 2 Axes>"
      ]
     },
     "metadata": {
      "needs_background": "light"
     },
     "output_type": "display_data"
    }
   ],
   "source": [
    "import seaborn as sn\n",
    "df_cm = pd.DataFrame(confu_matrix, index = [i for i in \"01\"],\n",
    "                  columns = [i for i in \"01\"])\n",
    "plt.figure(figsize = (10,7))\n",
    "sn.heatmap(df_cm, fmt = \".20g\", annot=True)"
   ]
  },
  {
   "cell_type": "code",
   "execution_count": 13,
   "metadata": {},
   "outputs": [
    {
     "data": {
      "text/plain": [
       "array([9.96511315e-02, 6.03473972e-02, 1.70336396e-01, 3.12528605e-02,\n",
       "       1.13665971e-02, 1.52095190e-02, 2.10878185e-02, 1.61437319e-02,\n",
       "       2.09054219e-02, 2.21869647e-02, 1.57842328e-02, 7.59897873e-02,\n",
       "       3.12879102e-02, 1.16281787e-02, 6.92961747e-03, 3.21949018e-02,\n",
       "       3.74225416e-02, 1.28774515e-02, 1.07385979e-02, 7.86100896e-03,\n",
       "       2.02330958e-02, 1.13380886e-02, 2.35611238e-03, 2.06954017e-02,\n",
       "       2.90314446e-02, 2.29108156e-02, 1.76937602e-02, 1.63745489e-02,\n",
       "       1.40591060e-02, 1.79030672e-02, 1.37327262e-02, 1.60352771e-02,\n",
       "       1.64150474e-03, 4.76895522e-03, 1.75943155e-03, 3.93743545e-03,\n",
       "       7.20723324e-05, 5.41111598e-04, 1.69252780e-02, 3.07226307e-04,\n",
       "       2.07281028e-03, 5.18412092e-03, 3.85337390e-03, 7.95774445e-03,\n",
       "       9.94083487e-04, 2.77149972e-03, 7.17009466e-03, 6.41632433e-03,\n",
       "       2.08655604e-05, 6.30089448e-05, 1.30761652e-04, 3.07696224e-03,\n",
       "       2.86985969e-03, 4.48206575e-03, 6.45114797e-04, 1.40153081e-03,\n",
       "       1.78765080e-04, 1.15555304e-03, 2.65139397e-04, 5.30550009e-04,\n",
       "       8.33621996e-04, 1.57149021e-03, 7.72184538e-05, 2.57072252e-04,\n",
       "       1.23072768e-03, 1.27111466e-03])"
      ]
     },
     "execution_count": 13,
     "metadata": {},
     "output_type": "execute_result"
    }
   ],
   "source": [
    "imp=rfc.feature_importances_\n",
    "imp"
   ]
  },
  {
   "cell_type": "markdown",
   "metadata": {},
   "source": [
    "## 方法的比較"
   ]
  },
  {
   "cell_type": "code",
   "execution_count": null,
   "metadata": {},
   "outputs": [],
   "source": [
    "#random forest test\n",
    "from sklearn.model_selection import cross_val_score\n",
    "from sklearn.datasets import make_blobs\n",
    "from sklearn.ensemble import RandomForestClassifier\n",
    "from sklearn.ensemble import ExtraTreesClassifier\n",
    "from sklearn.tree import DecisionTreeClassifier\n",
    "X, y = make_blobs(n_samples=10000, n_features=10, centers=100,random_state=0)\n",
    "clf = DecisionTreeClassifier(max_depth=None, min_samples_split=2,random_state=0)\n",
    "scores = cross_val_score(clf, X, y)\n",
    "print(scores.mean())    \n",
    "clf = RandomForestClassifier(n_estimators=10, max_depth=None,min_samples_split=2, random_state=0)\n",
    "scores = cross_val_score(clf, X, y)\n",
    "print(scores.mean())    \n",
    "clf = ExtraTreesClassifier(n_estimators=10, max_depth=None,min_samples_split=2, random_state=0)\n",
    "scores = cross_val_score(clf, X, y)\n",
    "print(scores.mean())"
   ]
  },
  {
   "cell_type": "code",
   "execution_count": null,
   "metadata": {},
   "outputs": [],
   "source": [
    "#隨機森林2\n",
    "from sklearn.tree import DecisionTreeRegressor \n",
    "from sklearn.ensemble import RandomForestRegressor \n",
    "import numpy as np \n",
    "from sklearn.datasets import load_iris \n",
    "iris=load_iris() \n",
    "from sklearn.model_selection import cross_val_score, ShuffleSplit \n",
    "X = iris[\"data\"] \n",
    "Y = iris[\"target\"] \n",
    "names = iris[\"feature_names\"] \n",
    "rf = RandomForestRegressor() \n",
    "scores = [] \n",
    "for i in range(X.shape[1]): \n",
    "    score = cross_val_score(rf, X[:, i:i 1], Y, scoring=\"r2\", cv=ShuffleSplit(len(X), 3, .3)) \n",
    "    scores.append((round(np.mean(score), 3), names[i])) \n",
    "    print(sorted(scores, reverse=True))"
   ]
  },
  {
   "cell_type": "code",
   "execution_count": null,
   "metadata": {},
   "outputs": [],
   "source": []
  }
 ],
 "metadata": {
  "kernelspec": {
   "display_name": "Python 3",
   "language": "python",
   "name": "python3"
  },
  "language_info": {
   "codemirror_mode": {
    "name": "ipython",
    "version": 3
   },
   "file_extension": ".py",
   "mimetype": "text/x-python",
   "name": "python",
   "nbconvert_exporter": "python",
   "pygments_lexer": "ipython3",
   "version": "3.7.6"
  }
 },
 "nbformat": 4,
 "nbformat_minor": 4
}
