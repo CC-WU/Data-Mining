{
 "cells": [
  {
   "cell_type": "markdown",
   "metadata": {},
   "source": [
    "# LG"
   ]
  },
  {
   "cell_type": "markdown",
   "metadata": {},
   "source": [
    "## 載入套件"
   ]
  },
  {
   "cell_type": "code",
   "execution_count": 175,
   "metadata": {},
   "outputs": [],
   "source": [
    "import pandas as pd\n",
    "import numpy as np\n",
    "import matplotlib.pyplot as plt\n",
    "import seaborn as sns\n",
    "#載入訓練組及測試組分組套件\n",
    "from sklearn.model_selection import train_test_split\n",
    "from sklearn.linear_model import LogisticRegression\n",
    "from sklearn.metrics import classification_report\n",
    "from sklearn.metrics import confusion_matrix\n",
    "\n",
    "%matplotlib inline\n",
    "\n",
    "preprocess_status = '_under'"
   ]
  },
  {
   "cell_type": "markdown",
   "metadata": {},
   "source": [
    "## read train dataset"
   ]
  },
  {
   "cell_type": "code",
   "execution_count": 176,
   "metadata": {},
   "outputs": [
    {
     "data": {
      "text/html": [
       "<div>\n",
       "<style scoped>\n",
       "    .dataframe tbody tr th:only-of-type {\n",
       "        vertical-align: middle;\n",
       "    }\n",
       "\n",
       "    .dataframe tbody tr th {\n",
       "        vertical-align: top;\n",
       "    }\n",
       "\n",
       "    .dataframe thead th {\n",
       "        text-align: right;\n",
       "    }\n",
       "</style>\n",
       "<table border=\"1\" class=\"dataframe\">\n",
       "  <thead>\n",
       "    <tr style=\"text-align: right;\">\n",
       "      <th></th>\n",
       "      <th>AGE</th>\n",
       "      <th>SEX</th>\n",
       "      <th>LOS</th>\n",
       "      <th>Joint</th>\n",
       "      <th>Drain</th>\n",
       "      <th>Cemented</th>\n",
       "      <th>Commercial_ALBC</th>\n",
       "      <th>Non_commercial_ALBC</th>\n",
       "      <th>cci_index</th>\n",
       "      <th>elx_index</th>\n",
       "      <th>...</th>\n",
       "      <th>Fluid and Electrolyte Disorders</th>\n",
       "      <th>Blood Loss Anemia</th>\n",
       "      <th>Deficiency Anemia</th>\n",
       "      <th>Anemia</th>\n",
       "      <th>Alcohol Abuse</th>\n",
       "      <th>Drug Abuse</th>\n",
       "      <th>Psychoses</th>\n",
       "      <th>Depression</th>\n",
       "      <th>Psyciatric disorder</th>\n",
       "      <th>outcome</th>\n",
       "    </tr>\n",
       "  </thead>\n",
       "  <tbody>\n",
       "    <tr>\n",
       "      <th>0</th>\n",
       "      <td>63</td>\n",
       "      <td>0</td>\n",
       "      <td>5.58</td>\n",
       "      <td>0</td>\n",
       "      <td>0</td>\n",
       "      <td>0</td>\n",
       "      <td>0</td>\n",
       "      <td>0</td>\n",
       "      <td>0</td>\n",
       "      <td>0</td>\n",
       "      <td>...</td>\n",
       "      <td>0</td>\n",
       "      <td>0</td>\n",
       "      <td>0</td>\n",
       "      <td>0</td>\n",
       "      <td>0</td>\n",
       "      <td>0</td>\n",
       "      <td>0</td>\n",
       "      <td>0</td>\n",
       "      <td>0</td>\n",
       "      <td>0</td>\n",
       "    </tr>\n",
       "    <tr>\n",
       "      <th>1</th>\n",
       "      <td>66</td>\n",
       "      <td>0</td>\n",
       "      <td>3.13</td>\n",
       "      <td>0</td>\n",
       "      <td>0</td>\n",
       "      <td>0</td>\n",
       "      <td>0</td>\n",
       "      <td>0</td>\n",
       "      <td>0</td>\n",
       "      <td>0</td>\n",
       "      <td>...</td>\n",
       "      <td>0</td>\n",
       "      <td>0</td>\n",
       "      <td>0</td>\n",
       "      <td>0</td>\n",
       "      <td>0</td>\n",
       "      <td>0</td>\n",
       "      <td>0</td>\n",
       "      <td>0</td>\n",
       "      <td>0</td>\n",
       "      <td>0</td>\n",
       "    </tr>\n",
       "    <tr>\n",
       "      <th>2</th>\n",
       "      <td>76</td>\n",
       "      <td>0</td>\n",
       "      <td>4.03</td>\n",
       "      <td>0</td>\n",
       "      <td>0</td>\n",
       "      <td>0</td>\n",
       "      <td>0</td>\n",
       "      <td>0</td>\n",
       "      <td>0</td>\n",
       "      <td>0</td>\n",
       "      <td>...</td>\n",
       "      <td>0</td>\n",
       "      <td>0</td>\n",
       "      <td>0</td>\n",
       "      <td>0</td>\n",
       "      <td>0</td>\n",
       "      <td>0</td>\n",
       "      <td>0</td>\n",
       "      <td>0</td>\n",
       "      <td>0</td>\n",
       "      <td>0</td>\n",
       "    </tr>\n",
       "  </tbody>\n",
       "</table>\n",
       "<p>3 rows × 67 columns</p>\n",
       "</div>"
      ],
      "text/plain": [
       "   AGE  SEX   LOS  Joint  Drain  Cemented  Commercial_ALBC  \\\n",
       "0   63    0  5.58      0      0         0                0   \n",
       "1   66    0  3.13      0      0         0                0   \n",
       "2   76    0  4.03      0      0         0                0   \n",
       "\n",
       "   Non_commercial_ALBC  cci_index  elx_index  ...  \\\n",
       "0                    0          0          0  ...   \n",
       "1                    0          0          0  ...   \n",
       "2                    0          0          0  ...   \n",
       "\n",
       "   Fluid and Electrolyte Disorders  Blood Loss Anemia  Deficiency Anemia  \\\n",
       "0                                0                  0                  0   \n",
       "1                                0                  0                  0   \n",
       "2                                0                  0                  0   \n",
       "\n",
       "   Anemia  Alcohol Abuse  Drug Abuse  Psychoses  Depression  \\\n",
       "0       0              0           0          0           0   \n",
       "1       0              0           0          0           0   \n",
       "2       0              0           0          0           0   \n",
       "\n",
       "   Psyciatric disorder  outcome  \n",
       "0                    0        0  \n",
       "1                    0        0  \n",
       "2                    0        0  \n",
       "\n",
       "[3 rows x 67 columns]"
      ]
     },
     "execution_count": 176,
     "metadata": {},
     "output_type": "execute_result"
    }
   ],
   "source": [
    "df_tr = pd.read_excel(\"./preprocess/output_tr\" + preprocess_status + \".xlsx\", engine='openpyxl')\n",
    "df_tr.head(3)"
   ]
  },
  {
   "cell_type": "markdown",
   "metadata": {},
   "source": [
    "## read test dataset"
   ]
  },
  {
   "cell_type": "code",
   "execution_count": 146,
   "metadata": {},
   "outputs": [
    {
     "data": {
      "text/html": [
       "<div>\n",
       "<style scoped>\n",
       "    .dataframe tbody tr th:only-of-type {\n",
       "        vertical-align: middle;\n",
       "    }\n",
       "\n",
       "    .dataframe tbody tr th {\n",
       "        vertical-align: top;\n",
       "    }\n",
       "\n",
       "    .dataframe thead th {\n",
       "        text-align: right;\n",
       "    }\n",
       "</style>\n",
       "<table border=\"1\" class=\"dataframe\">\n",
       "  <thead>\n",
       "    <tr style=\"text-align: right;\">\n",
       "      <th></th>\n",
       "      <th>AGE</th>\n",
       "      <th>SEX</th>\n",
       "      <th>LOS</th>\n",
       "      <th>Joint</th>\n",
       "      <th>Drain</th>\n",
       "      <th>Cemented</th>\n",
       "      <th>Commercial_ALBC</th>\n",
       "      <th>Non_commercial_ALBC</th>\n",
       "      <th>cci_index</th>\n",
       "      <th>elx_index</th>\n",
       "      <th>...</th>\n",
       "      <th>Weight Loss</th>\n",
       "      <th>Fluid and Electrolyte Disorders</th>\n",
       "      <th>Blood Loss Anemia</th>\n",
       "      <th>Deficiency Anemia</th>\n",
       "      <th>Anemia</th>\n",
       "      <th>Alcohol Abuse</th>\n",
       "      <th>Drug Abuse</th>\n",
       "      <th>Psychoses</th>\n",
       "      <th>Depression</th>\n",
       "      <th>Psyciatric disorder</th>\n",
       "    </tr>\n",
       "  </thead>\n",
       "  <tbody>\n",
       "    <tr>\n",
       "      <th>0</th>\n",
       "      <td>81.0</td>\n",
       "      <td>M</td>\n",
       "      <td>3.0</td>\n",
       "      <td>TKA</td>\n",
       "      <td>1</td>\n",
       "      <td>1</td>\n",
       "      <td>0</td>\n",
       "      <td>1</td>\n",
       "      <td>0</td>\n",
       "      <td>0</td>\n",
       "      <td>...</td>\n",
       "      <td>0</td>\n",
       "      <td>0</td>\n",
       "      <td>0</td>\n",
       "      <td>0</td>\n",
       "      <td>0</td>\n",
       "      <td>0</td>\n",
       "      <td>0</td>\n",
       "      <td>0</td>\n",
       "      <td>0</td>\n",
       "      <td>0</td>\n",
       "    </tr>\n",
       "    <tr>\n",
       "      <th>1</th>\n",
       "      <td>34.0</td>\n",
       "      <td>F</td>\n",
       "      <td>3.0</td>\n",
       "      <td>THA</td>\n",
       "      <td>0</td>\n",
       "      <td>0</td>\n",
       "      <td>0</td>\n",
       "      <td>0</td>\n",
       "      <td>1</td>\n",
       "      <td>2</td>\n",
       "      <td>...</td>\n",
       "      <td>0</td>\n",
       "      <td>0</td>\n",
       "      <td>0</td>\n",
       "      <td>0</td>\n",
       "      <td>0</td>\n",
       "      <td>0</td>\n",
       "      <td>0</td>\n",
       "      <td>0</td>\n",
       "      <td>0</td>\n",
       "      <td>0</td>\n",
       "    </tr>\n",
       "    <tr>\n",
       "      <th>2</th>\n",
       "      <td>54.0</td>\n",
       "      <td>F</td>\n",
       "      <td>6.0</td>\n",
       "      <td>TKA</td>\n",
       "      <td>1</td>\n",
       "      <td>1</td>\n",
       "      <td>0</td>\n",
       "      <td>1</td>\n",
       "      <td>0</td>\n",
       "      <td>1</td>\n",
       "      <td>...</td>\n",
       "      <td>0</td>\n",
       "      <td>0</td>\n",
       "      <td>0</td>\n",
       "      <td>0</td>\n",
       "      <td>0</td>\n",
       "      <td>0</td>\n",
       "      <td>0</td>\n",
       "      <td>0</td>\n",
       "      <td>0</td>\n",
       "      <td>0</td>\n",
       "    </tr>\n",
       "  </tbody>\n",
       "</table>\n",
       "<p>3 rows × 67 columns</p>\n",
       "</div>"
      ],
      "text/plain": [
       "    AGE SEX  LOS Joint  Drain  Cemented  Commercial_ALBC  Non_commercial_ALBC  \\\n",
       "0  81.0   M  3.0   TKA      1         1                0                    1   \n",
       "1  34.0   F  3.0   THA      0         0                0                    0   \n",
       "2  54.0   F  6.0   TKA      1         1                0                    1   \n",
       "\n",
       "   cci_index  elx_index  ...  Weight Loss  Fluid and Electrolyte Disorders  \\\n",
       "0          0          0  ...            0                                0   \n",
       "1          1          2  ...            0                                0   \n",
       "2          0          1  ...            0                                0   \n",
       "\n",
       "   Blood Loss Anemia  Deficiency Anemia  Anemia  Alcohol Abuse  Drug Abuse  \\\n",
       "0                  0                  0       0              0           0   \n",
       "1                  0                  0       0              0           0   \n",
       "2                  0                  0       0              0           0   \n",
       "\n",
       "   Psychoses  Depression  Psyciatric disorder  \n",
       "0          0           0                    0  \n",
       "1          0           0                    0  \n",
       "2          0           0                    0  \n",
       "\n",
       "[3 rows x 67 columns]"
      ]
     },
     "execution_count": 146,
     "metadata": {},
     "output_type": "execute_result"
    }
   ],
   "source": [
    "df_ts = pd.read_excel(\"ts.xlsx\", engine='openpyxl')\n",
    "df_ts.head(3)"
   ]
  },
  {
   "cell_type": "code",
   "execution_count": 177,
   "metadata": {},
   "outputs": [
    {
     "name": "stdout",
     "output_type": "stream",
     "text": [
      "#:  1742\n",
      "#0:  871\n",
      "#1:  871\n",
      "差 1.0 倍\n"
     ]
    }
   ],
   "source": [
    "# Separate majority and minority classes\n",
    "df_majority = df_tr[df_tr.outcome==0]\n",
    "df_minority = df_tr[df_tr.outcome==1]\n",
    "\n",
    "print('#: ', len(df_tr))\n",
    "print('#0: ', len(df_majority))\n",
    "print('#1: ', len(df_minority))\n",
    "print('差',len(df_majority)/len(df_minority),'倍')"
   ]
  },
  {
   "cell_type": "markdown",
   "metadata": {},
   "source": [
    "## 將資料分成訓練組及測試組"
   ]
  },
  {
   "cell_type": "code",
   "execution_count": 178,
   "metadata": {},
   "outputs": [
    {
     "name": "stdout",
     "output_type": "stream",
     "text": [
      "(1742, 66)\n",
      "(1742,)\n",
      "(1742, 66)\n",
      "(1742,)\n"
     ]
    }
   ],
   "source": [
    "X = df_tr.drop('outcome', 1)\n",
    "y = df_tr['outcome']\n",
    "\n",
    "X_train, X_test, y_train, y_test = train_test_split(X, y, test_size=0.2, random_state=0)\n",
    "\n",
    "print(X_train.shape)\n",
    "print(y_train.shape)\n",
    "print(X_test.shape)\n",
    "print(y_test.shape)"
   ]
  },
  {
   "cell_type": "code",
   "execution_count": 132,
   "metadata": {},
   "outputs": [
    {
     "data": {
      "text/html": [
       "<div>\n",
       "<style scoped>\n",
       "    .dataframe tbody tr th:only-of-type {\n",
       "        vertical-align: middle;\n",
       "    }\n",
       "\n",
       "    .dataframe tbody tr th {\n",
       "        vertical-align: top;\n",
       "    }\n",
       "\n",
       "    .dataframe thead th {\n",
       "        text-align: right;\n",
       "    }\n",
       "</style>\n",
       "<table border=\"1\" class=\"dataframe\">\n",
       "  <thead>\n",
       "    <tr style=\"text-align: right;\">\n",
       "      <th></th>\n",
       "      <th>AGE</th>\n",
       "      <th>SEX</th>\n",
       "      <th>LOS</th>\n",
       "      <th>Joint</th>\n",
       "      <th>Drain</th>\n",
       "      <th>Cemented</th>\n",
       "      <th>Commercial_ALBC</th>\n",
       "      <th>Non_commercial_ALBC</th>\n",
       "      <th>cci_index</th>\n",
       "      <th>elx_index</th>\n",
       "      <th>...</th>\n",
       "      <th>Weight Loss</th>\n",
       "      <th>Fluid and Electrolyte Disorders</th>\n",
       "      <th>Blood Loss Anemia</th>\n",
       "      <th>Deficiency Anemia</th>\n",
       "      <th>Anemia</th>\n",
       "      <th>Alcohol Abuse</th>\n",
       "      <th>Drug Abuse</th>\n",
       "      <th>Psychoses</th>\n",
       "      <th>Depression</th>\n",
       "      <th>Psyciatric disorder</th>\n",
       "    </tr>\n",
       "  </thead>\n",
       "  <tbody>\n",
       "    <tr>\n",
       "      <th>0</th>\n",
       "      <td>-1</td>\n",
       "      <td>1</td>\n",
       "      <td>0.82</td>\n",
       "      <td>0</td>\n",
       "      <td>1</td>\n",
       "      <td>1</td>\n",
       "      <td>0</td>\n",
       "      <td>1</td>\n",
       "      <td>0</td>\n",
       "      <td>0</td>\n",
       "      <td>...</td>\n",
       "      <td>0</td>\n",
       "      <td>0</td>\n",
       "      <td>0</td>\n",
       "      <td>0</td>\n",
       "      <td>0</td>\n",
       "      <td>0</td>\n",
       "      <td>0</td>\n",
       "      <td>0</td>\n",
       "      <td>0</td>\n",
       "      <td>0</td>\n",
       "    </tr>\n",
       "    <tr>\n",
       "      <th>1</th>\n",
       "      <td>0</td>\n",
       "      <td>0</td>\n",
       "      <td>-0.20</td>\n",
       "      <td>0</td>\n",
       "      <td>1</td>\n",
       "      <td>1</td>\n",
       "      <td>1</td>\n",
       "      <td>0</td>\n",
       "      <td>1</td>\n",
       "      <td>1</td>\n",
       "      <td>...</td>\n",
       "      <td>0</td>\n",
       "      <td>0</td>\n",
       "      <td>0</td>\n",
       "      <td>0</td>\n",
       "      <td>0</td>\n",
       "      <td>0</td>\n",
       "      <td>0</td>\n",
       "      <td>0</td>\n",
       "      <td>0</td>\n",
       "      <td>0</td>\n",
       "    </tr>\n",
       "    <tr>\n",
       "      <th>2</th>\n",
       "      <td>1</td>\n",
       "      <td>0</td>\n",
       "      <td>0.82</td>\n",
       "      <td>0</td>\n",
       "      <td>1</td>\n",
       "      <td>1</td>\n",
       "      <td>0</td>\n",
       "      <td>1</td>\n",
       "      <td>1</td>\n",
       "      <td>1</td>\n",
       "      <td>...</td>\n",
       "      <td>0</td>\n",
       "      <td>0</td>\n",
       "      <td>0</td>\n",
       "      <td>0</td>\n",
       "      <td>0</td>\n",
       "      <td>0</td>\n",
       "      <td>0</td>\n",
       "      <td>0</td>\n",
       "      <td>0</td>\n",
       "      <td>0</td>\n",
       "    </tr>\n",
       "    <tr>\n",
       "      <th>3</th>\n",
       "      <td>0</td>\n",
       "      <td>0</td>\n",
       "      <td>2.86</td>\n",
       "      <td>0</td>\n",
       "      <td>1</td>\n",
       "      <td>1</td>\n",
       "      <td>0</td>\n",
       "      <td>1</td>\n",
       "      <td>0</td>\n",
       "      <td>0</td>\n",
       "      <td>...</td>\n",
       "      <td>0</td>\n",
       "      <td>0</td>\n",
       "      <td>0</td>\n",
       "      <td>0</td>\n",
       "      <td>0</td>\n",
       "      <td>0</td>\n",
       "      <td>0</td>\n",
       "      <td>0</td>\n",
       "      <td>0</td>\n",
       "      <td>0</td>\n",
       "    </tr>\n",
       "    <tr>\n",
       "      <th>4</th>\n",
       "      <td>-1</td>\n",
       "      <td>1</td>\n",
       "      <td>-0.54</td>\n",
       "      <td>0</td>\n",
       "      <td>1</td>\n",
       "      <td>0</td>\n",
       "      <td>0</td>\n",
       "      <td>0</td>\n",
       "      <td>1</td>\n",
       "      <td>2</td>\n",
       "      <td>...</td>\n",
       "      <td>0</td>\n",
       "      <td>0</td>\n",
       "      <td>0</td>\n",
       "      <td>1</td>\n",
       "      <td>1</td>\n",
       "      <td>0</td>\n",
       "      <td>0</td>\n",
       "      <td>0</td>\n",
       "      <td>0</td>\n",
       "      <td>0</td>\n",
       "    </tr>\n",
       "    <tr>\n",
       "      <th>...</th>\n",
       "      <td>...</td>\n",
       "      <td>...</td>\n",
       "      <td>...</td>\n",
       "      <td>...</td>\n",
       "      <td>...</td>\n",
       "      <td>...</td>\n",
       "      <td>...</td>\n",
       "      <td>...</td>\n",
       "      <td>...</td>\n",
       "      <td>...</td>\n",
       "      <td>...</td>\n",
       "      <td>...</td>\n",
       "      <td>...</td>\n",
       "      <td>...</td>\n",
       "      <td>...</td>\n",
       "      <td>...</td>\n",
       "      <td>...</td>\n",
       "      <td>...</td>\n",
       "      <td>...</td>\n",
       "      <td>...</td>\n",
       "      <td>...</td>\n",
       "    </tr>\n",
       "    <tr>\n",
       "      <th>96533</th>\n",
       "      <td>0</td>\n",
       "      <td>1</td>\n",
       "      <td>0.92</td>\n",
       "      <td>0</td>\n",
       "      <td>1</td>\n",
       "      <td>1</td>\n",
       "      <td>0</td>\n",
       "      <td>1</td>\n",
       "      <td>0</td>\n",
       "      <td>0</td>\n",
       "      <td>...</td>\n",
       "      <td>0</td>\n",
       "      <td>0</td>\n",
       "      <td>0</td>\n",
       "      <td>0</td>\n",
       "      <td>0</td>\n",
       "      <td>0</td>\n",
       "      <td>0</td>\n",
       "      <td>0</td>\n",
       "      <td>0</td>\n",
       "      <td>0</td>\n",
       "    </tr>\n",
       "    <tr>\n",
       "      <th>96534</th>\n",
       "      <td>-1</td>\n",
       "      <td>1</td>\n",
       "      <td>0.63</td>\n",
       "      <td>0</td>\n",
       "      <td>1</td>\n",
       "      <td>1</td>\n",
       "      <td>0</td>\n",
       "      <td>1</td>\n",
       "      <td>0</td>\n",
       "      <td>0</td>\n",
       "      <td>...</td>\n",
       "      <td>0</td>\n",
       "      <td>0</td>\n",
       "      <td>0</td>\n",
       "      <td>0</td>\n",
       "      <td>0</td>\n",
       "      <td>0</td>\n",
       "      <td>0</td>\n",
       "      <td>0</td>\n",
       "      <td>0</td>\n",
       "      <td>0</td>\n",
       "    </tr>\n",
       "    <tr>\n",
       "      <th>96535</th>\n",
       "      <td>1</td>\n",
       "      <td>1</td>\n",
       "      <td>0.19</td>\n",
       "      <td>0</td>\n",
       "      <td>1</td>\n",
       "      <td>1</td>\n",
       "      <td>0</td>\n",
       "      <td>1</td>\n",
       "      <td>0</td>\n",
       "      <td>0</td>\n",
       "      <td>...</td>\n",
       "      <td>0</td>\n",
       "      <td>0</td>\n",
       "      <td>0</td>\n",
       "      <td>0</td>\n",
       "      <td>0</td>\n",
       "      <td>0</td>\n",
       "      <td>0</td>\n",
       "      <td>0</td>\n",
       "      <td>0</td>\n",
       "      <td>0</td>\n",
       "    </tr>\n",
       "    <tr>\n",
       "      <th>96536</th>\n",
       "      <td>-1</td>\n",
       "      <td>0</td>\n",
       "      <td>0.03</td>\n",
       "      <td>0</td>\n",
       "      <td>1</td>\n",
       "      <td>1</td>\n",
       "      <td>0</td>\n",
       "      <td>1</td>\n",
       "      <td>1</td>\n",
       "      <td>1</td>\n",
       "      <td>...</td>\n",
       "      <td>0</td>\n",
       "      <td>0</td>\n",
       "      <td>0</td>\n",
       "      <td>0</td>\n",
       "      <td>0</td>\n",
       "      <td>0</td>\n",
       "      <td>0</td>\n",
       "      <td>0</td>\n",
       "      <td>0</td>\n",
       "      <td>0</td>\n",
       "    </tr>\n",
       "    <tr>\n",
       "      <th>96537</th>\n",
       "      <td>1</td>\n",
       "      <td>0</td>\n",
       "      <td>2.52</td>\n",
       "      <td>0</td>\n",
       "      <td>0</td>\n",
       "      <td>1</td>\n",
       "      <td>0</td>\n",
       "      <td>1</td>\n",
       "      <td>2</td>\n",
       "      <td>3</td>\n",
       "      <td>...</td>\n",
       "      <td>0</td>\n",
       "      <td>0</td>\n",
       "      <td>0</td>\n",
       "      <td>0</td>\n",
       "      <td>0</td>\n",
       "      <td>0</td>\n",
       "      <td>0</td>\n",
       "      <td>0</td>\n",
       "      <td>0</td>\n",
       "      <td>0</td>\n",
       "    </tr>\n",
       "  </tbody>\n",
       "</table>\n",
       "<p>96538 rows × 66 columns</p>\n",
       "</div>"
      ],
      "text/plain": [
       "       AGE  SEX   LOS  Joint  Drain  Cemented  Commercial_ALBC  \\\n",
       "0       -1    1  0.82      0      1         1                0   \n",
       "1        0    0 -0.20      0      1         1                1   \n",
       "2        1    0  0.82      0      1         1                0   \n",
       "3        0    0  2.86      0      1         1                0   \n",
       "4       -1    1 -0.54      0      1         0                0   \n",
       "...    ...  ...   ...    ...    ...       ...              ...   \n",
       "96533    0    1  0.92      0      1         1                0   \n",
       "96534   -1    1  0.63      0      1         1                0   \n",
       "96535    1    1  0.19      0      1         1                0   \n",
       "96536   -1    0  0.03      0      1         1                0   \n",
       "96537    1    0  2.52      0      0         1                0   \n",
       "\n",
       "       Non_commercial_ALBC  cci_index  elx_index  ...  Weight Loss  \\\n",
       "0                        1          0          0  ...            0   \n",
       "1                        0          1          1  ...            0   \n",
       "2                        1          1          1  ...            0   \n",
       "3                        1          0          0  ...            0   \n",
       "4                        0          1          2  ...            0   \n",
       "...                    ...        ...        ...  ...          ...   \n",
       "96533                    1          0          0  ...            0   \n",
       "96534                    1          0          0  ...            0   \n",
       "96535                    1          0          0  ...            0   \n",
       "96536                    1          1          1  ...            0   \n",
       "96537                    1          2          3  ...            0   \n",
       "\n",
       "       Fluid and Electrolyte Disorders  Blood Loss Anemia  Deficiency Anemia  \\\n",
       "0                                    0                  0                  0   \n",
       "1                                    0                  0                  0   \n",
       "2                                    0                  0                  0   \n",
       "3                                    0                  0                  0   \n",
       "4                                    0                  0                  1   \n",
       "...                                ...                ...                ...   \n",
       "96533                                0                  0                  0   \n",
       "96534                                0                  0                  0   \n",
       "96535                                0                  0                  0   \n",
       "96536                                0                  0                  0   \n",
       "96537                                0                  0                  0   \n",
       "\n",
       "       Anemia  Alcohol Abuse  Drug Abuse  Psychoses  Depression  \\\n",
       "0           0              0           0          0           0   \n",
       "1           0              0           0          0           0   \n",
       "2           0              0           0          0           0   \n",
       "3           0              0           0          0           0   \n",
       "4           1              0           0          0           0   \n",
       "...       ...            ...         ...        ...         ...   \n",
       "96533       0              0           0          0           0   \n",
       "96534       0              0           0          0           0   \n",
       "96535       0              0           0          0           0   \n",
       "96536       0              0           0          0           0   \n",
       "96537       0              0           0          0           0   \n",
       "\n",
       "       Psyciatric disorder  \n",
       "0                        0  \n",
       "1                        0  \n",
       "2                        0  \n",
       "3                        0  \n",
       "4                        0  \n",
       "...                    ...  \n",
       "96533                    0  \n",
       "96534                    0  \n",
       "96535                    0  \n",
       "96536                    0  \n",
       "96537                    0  \n",
       "\n",
       "[96538 rows x 66 columns]"
      ]
     },
     "execution_count": 132,
     "metadata": {},
     "output_type": "execute_result"
    }
   ],
   "source": [
    "X_train"
   ]
  },
  {
   "cell_type": "code",
   "execution_count": 88,
   "metadata": {},
   "outputs": [
    {
     "data": {
      "text/plain": [
       "0        1\n",
       "1        1\n",
       "2        1\n",
       "3        1\n",
       "4        1\n",
       "        ..\n",
       "96453    1\n",
       "96454    1\n",
       "96455    1\n",
       "96456    1\n",
       "96457    1\n",
       "Name: outcome, Length: 96458, dtype: int64"
      ]
     },
     "execution_count": 88,
     "metadata": {},
     "output_type": "execute_result"
    }
   ],
   "source": [
    "y_train"
   ]
  },
  {
   "cell_type": "markdown",
   "metadata": {},
   "source": [
    "## LG 邏輯迴歸"
   ]
  },
  {
   "cell_type": "markdown",
   "metadata": {},
   "source": [
    "### train"
   ]
  },
  {
   "cell_type": "code",
   "execution_count": 164,
   "metadata": {},
   "outputs": [
    {
     "name": "stderr",
     "output_type": "stream",
     "text": [
      "C:\\Users\\User\\anaconda3\\lib\\site-packages\\sklearn\\linear_model\\_logistic.py:764: ConvergenceWarning: lbfgs failed to converge (status=1):\n",
      "STOP: TOTAL NO. of ITERATIONS REACHED LIMIT.\n",
      "\n",
      "Increase the number of iterations (max_iter) or scale the data as shown in:\n",
      "    https://scikit-learn.org/stable/modules/preprocessing.html\n",
      "Please also refer to the documentation for alternative solver options:\n",
      "    https://scikit-learn.org/stable/modules/linear_model.html#logistic-regression\n",
      "  extra_warning_msg=_LOGISTIC_SOLVER_CONVERGENCE_MSG)\n"
     ]
    },
    {
     "data": {
      "text/plain": [
       "LogisticRegression(class_weight={0: 1.0, 1: 55.0})"
      ]
     },
     "execution_count": 164,
     "metadata": {},
     "output_type": "execute_result"
    }
   ],
   "source": [
    "# 加權\n",
    "weights = {0:1.0, 1:55.0}\n",
    "logmodel = LogisticRegression(solver='lbfgs', class_weight=weights)\n",
    "logmodel.fit(X_train,y_train)"
   ]
  },
  {
   "cell_type": "code",
   "execution_count": 275,
   "metadata": {},
   "outputs": [
    {
     "name": "stderr",
     "output_type": "stream",
     "text": [
      "C:\\Users\\User\\anaconda3\\lib\\site-packages\\sklearn\\linear_model\\_logistic.py:764: ConvergenceWarning: lbfgs failed to converge (status=1):\n",
      "STOP: TOTAL NO. of ITERATIONS REACHED LIMIT.\n",
      "\n",
      "Increase the number of iterations (max_iter) or scale the data as shown in:\n",
      "    https://scikit-learn.org/stable/modules/preprocessing.html\n",
      "Please also refer to the documentation for alternative solver options:\n",
      "    https://scikit-learn.org/stable/modules/linear_model.html#logistic-regression\n",
      "  extra_warning_msg=_LOGISTIC_SOLVER_CONVERGENCE_MSG)\n"
     ]
    },
    {
     "data": {
      "text/plain": [
       "LogisticRegression(max_iter=2000)"
      ]
     },
     "execution_count": 275,
     "metadata": {},
     "output_type": "execute_result"
    }
   ],
   "source": [
    "# 建立訓練組邏輯迴歸模型\n",
    "logmodel = LogisticRegression(max_iter = 2000)\n",
    "logmodel.fit(X_train,y_train)"
   ]
  },
  {
   "cell_type": "code",
   "execution_count": 276,
   "metadata": {},
   "outputs": [
    {
     "name": "stdout",
     "output_type": "stream",
     "text": [
      "係數： [[ 4.44170172e-03  1.87839995e+00 -1.25325967e-01  4.04720776e+00\n",
      "   2.87729585e+00  1.97331334e+00  1.39135857e+00  3.09348934e+00\n",
      "  -9.85989057e-02 -1.68960181e-01  1.19206317e+00 -2.19218063e-01\n",
      "   9.86615559e-01 -4.87671942e-02  1.73080971e+00  6.00427173e-01\n",
      "  -2.39226921e-01  1.29357993e-01  6.28714789e-02 -4.29482636e-01\n",
      "  -8.18914079e-02 -3.39987689e-03 -7.67742316e-01  5.77240667e-02\n",
      "  -8.09391446e-01  1.92409350e-02 -3.58847437e-02 -4.46243433e-01\n",
      "   1.06553620e-01 -1.95705659e+00 -1.64839221e-01  3.97230817e-01\n",
      "   1.86003300e-01  1.49539579e-01  4.29953851e-01  7.57942631e-01\n",
      "   9.01935140e-04  1.61248429e-01  2.09292052e+00 -9.02451361e-01\n",
      "   9.59116985e-02  9.04243254e-01  9.05145189e-01  5.85927071e-01\n",
      "   4.97126681e-02  9.52337065e-01  2.62505432e-01  1.81927948e+00\n",
      "   0.00000000e+00  0.00000000e+00  5.37529334e-02  3.92653853e-01\n",
      "   2.09861415e-01  1.14838385e+00 -8.99930097e-02  4.29584507e-02\n",
      "   3.31122314e-05  6.21483887e-01 -9.11634800e-01  3.00118414e-01\n",
      "  -6.11516386e-01  8.31882764e-01  3.06994749e-02  3.32867037e-01\n",
      "   3.92256280e-01  7.25123316e-01]]\n",
      "截距： [-0.09559956]\n"
     ]
    }
   ],
   "source": [
    "# 印出係數\n",
    "print('係數：', logmodel.coef_)\n",
    "\n",
    "# 印出截距\n",
    "print('截距：', logmodel.intercept_ )"
   ]
  },
  {
   "cell_type": "markdown",
   "metadata": {},
   "source": [
    "### test"
   ]
  },
  {
   "cell_type": "code",
   "execution_count": 277,
   "metadata": {},
   "outputs": [
    {
     "data": {
      "text/plain": [
       "array([0, 0, 0, ..., 1, 1, 1], dtype=int64)"
      ]
     },
     "execution_count": 277,
     "metadata": {},
     "output_type": "execute_result"
    }
   ],
   "source": [
    "#預測\n",
    "#使用模型來預測\n",
    "predictions = logmodel.predict(X_test)\n",
    "predictions"
   ]
  },
  {
   "cell_type": "code",
   "execution_count": 278,
   "metadata": {},
   "outputs": [
    {
     "data": {
      "text/plain": [
       "array([[9.99848991e-01, 1.51008706e-04],\n",
       "       [9.78149517e-01, 2.18504826e-02],\n",
       "       [9.81677957e-01, 1.83220429e-02],\n",
       "       ...,\n",
       "       [6.08670649e-04, 9.99391329e-01],\n",
       "       [2.12827179e-03, 9.97871728e-01],\n",
       "       [5.96738560e-04, 9.99403261e-01]])"
      ]
     },
     "execution_count": 278,
     "metadata": {},
     "output_type": "execute_result"
    }
   ],
   "source": [
    "# 看到該樣本在各個類別事件發生的機率\n",
    "predictions_proba = logmodel.predict_proba(X_test)\n",
    "predictions_proba"
   ]
  },
  {
   "cell_type": "code",
   "execution_count": 279,
   "metadata": {},
   "outputs": [
    {
     "data": {
      "text/plain": [
       "0.981630309988519"
      ]
     },
     "execution_count": 279,
     "metadata": {},
     "output_type": "execute_result"
    }
   ],
   "source": [
    "logmodel.score(X_test,y_test)"
   ]
  },
  {
   "cell_type": "code",
   "execution_count": 280,
   "metadata": {},
   "outputs": [
    {
     "name": "stdout",
     "output_type": "stream",
     "text": [
      "              precision    recall  f1-score   support\n",
      "\n",
      "           0       0.98      0.98      0.98       871\n",
      "           1       0.98      0.98      0.98       871\n",
      "\n",
      "    accuracy                           0.98      1742\n",
      "   macro avg       0.98      0.98      0.98      1742\n",
      "weighted avg       0.98      0.98      0.98      1742\n",
      "\n"
     ]
    }
   ],
   "source": [
    "#載入classificationo_report來看預測和實際值的差異，包含precision、recall、f1-score及support\n",
    "print(classification_report(y_test, predictions))"
   ]
  },
  {
   "cell_type": "code",
   "execution_count": 281,
   "metadata": {},
   "outputs": [
    {
     "data": {
      "text/plain": [
       "array([[853,  18],\n",
       "       [ 14, 857]], dtype=int64)"
      ]
     },
     "execution_count": 281,
     "metadata": {},
     "output_type": "execute_result"
    }
   ],
   "source": [
    "confu_matrix = confusion_matrix(y_test, predictions)\n",
    "confu_matrix"
   ]
  },
  {
   "cell_type": "markdown",
   "metadata": {},
   "source": [
    "### evaluate"
   ]
  },
  {
   "cell_type": "code",
   "execution_count": 282,
   "metadata": {},
   "outputs": [
    {
     "name": "stdout",
     "output_type": "stream",
     "text": [
      "0.018369690011481057\n",
      "0.981630309988519\n",
      "0.9809064893671711\n"
     ]
    }
   ],
   "source": [
    "# 模型績效\n",
    "mse = np.mean((predictions - y_test) ** 2)\n",
    "r_squared = logmodel.score(X_train, y_test)\n",
    "adj_r_squared = r_squared - (1 - r_squared) * (X_train.shape[1] / (X_train.shape[0] - X_train.shape[1] - 1))\n",
    "\n",
    "# 印出模型績效\n",
    "print(mse)\n",
    "print(r_squared)\n",
    "print(adj_r_squared)"
   ]
  },
  {
   "cell_type": "markdown",
   "metadata": {},
   "source": [
    "### save the model"
   ]
  },
  {
   "cell_type": "code",
   "execution_count": 201,
   "metadata": {},
   "outputs": [],
   "source": [
    "# save the model to disk\n",
    "import pickle\n",
    "filename = './model/lg/logmodel' + preprocess_status + '.sav'\n",
    "pickle.dump(logmodel, open(filename, 'wb'))"
   ]
  },
  {
   "cell_type": "markdown",
   "metadata": {},
   "source": [
    "## 視覺化"
   ]
  },
  {
   "cell_type": "code",
   "execution_count": 202,
   "metadata": {},
   "outputs": [
    {
     "data": {
      "text/plain": [
       "<AxesSubplot:>"
      ]
     },
     "execution_count": 202,
     "metadata": {},
     "output_type": "execute_result"
    },
    {
     "data": {
      "image/png": "[encoded data removed]",
      "text/plain": [
       "<Figure size 720x504 with 2 Axes>"
      ]
     },
     "metadata": {
      "needs_background": "light"
     },
     "output_type": "display_data"
    }
   ],
   "source": [
    "import seaborn as sn\n",
    "df_cm = pd.DataFrame(confu_matrix, index = [i for i in \"01\"],\n",
    "                  columns = [i for i in \"01\"])\n",
    "plt.figure(figsize = (10,7))\n",
    "sn.heatmap(df_cm, fmt = \".20g\", annot=True)"
   ]
  },
  {
   "cell_type": "code",
   "execution_count": 283,
   "metadata": {},
   "outputs": [
    {
     "name": "stdout",
     "output_type": "stream",
     "text": [
      "acc:  0.981630309988519\n",
      "f1:  0.9815880322209436\n",
      "ppv:  0.9793340987370838\n",
      "recall:  0.9838523644752019\n",
      "mcc:  0.9632707778868462\n",
      "auc:  0.9816404679518866\n"
     ]
    }
   ],
   "source": [
    "import math\n",
    "\n",
    "\n",
    "#      |  (a)  |  (b)  |\n",
    "# --------------------------\n",
    "# (a)  |  TP   |  FN   |\n",
    "# --------------------------\n",
    "# (b)  |  FP   |  TN   |\n",
    "\n",
    "tp = confu_matrix[0, 0]\n",
    "fp = confu_matrix[0, 1]\n",
    "fn = confu_matrix[1, 0]\n",
    "tn = confu_matrix[1, 1]\n",
    "\n",
    "acc = (tp + tn) / (tp + fp + tn + fn)\n",
    "f1 = (2 * tp) / (2 * tp + fp + fn)\n",
    "ppv = (tp) / (tp + fp)\n",
    "recall = (tp) / (tp + fn)\n",
    "mcc = ((tp * tn) - (fp * fn)) / (math.sqrt((tp + fp) * (tp + fn) * (tn + fp) * (tn + fn)))\n",
    "\n",
    "tpr = tp / (tp + fn)\n",
    "fpr = fp / (fp + tn) \n",
    "auc = 1/2 - fpr/2 + tpr/2\n",
    "\n",
    "\n",
    "print('acc: ', acc)\n",
    "print('f1: ', f1)\n",
    "print('ppv: ', ppv)\n",
    "print('recall: ', recall)\n",
    "print('mcc: ', mcc)\n",
    "print('auc: ', auc)"
   ]
  },
  {
   "cell_type": "markdown",
   "metadata": {},
   "source": [
    "### AUC Curve"
   ]
  },
  {
   "cell_type": "code",
   "execution_count": 284,
   "metadata": {},
   "outputs": [
    {
     "data": {
      "image/png": "[encoded data removed]",
      "text/plain": [
       "<Figure size 432x288 with 1 Axes>"
      ]
     },
     "metadata": {
      "needs_background": "light"
     },
     "output_type": "display_data"
    }
   ],
   "source": [
    "from sklearn import metrics\n",
    "y_pred_proba = logmodel.predict_proba(X_test)[::,1]\n",
    "fpr, tpr, _ = metrics.roc_curve(y_test,  y_pred_proba)\n",
    "auc = metrics.roc_auc_score(y_test, y_pred_proba)\n",
    "plt.plot(fpr,tpr,label=\"data 1, auc=\"+str(auc))\n",
    "plt.legend(loc=4)\n",
    "plt.show()"
   ]
  },
  {
   "cell_type": "code",
   "execution_count": 288,
   "metadata": {},
   "outputs": [
    {
     "data": {
      "text/plain": [
       "0.6344748779511407"
      ]
     },
     "execution_count": 288,
     "metadata": {},
     "output_type": "execute_result"
    }
   ],
   "source": [
    "from sklearn.metrics import log_loss\n",
    "log_loss(y_test, predictions)"
   ]
  },
  {
   "cell_type": "code",
   "execution_count": null,
   "metadata": {},
   "outputs": [],
   "source": []
  }
 ],
 "metadata": {
  "kernelspec": {
   "display_name": "Python 3",
   "language": "python",
   "name": "python3"
  },
  "language_info": {
   "codemirror_mode": {
    "name": "ipython",
    "version": 3
   },
   "file_extension": ".py",
   "mimetype": "text/x-python",
   "name": "python",
   "nbconvert_exporter": "python",
   "pygments_lexer": "ipython3",
   "version": "3.7.6"
  }
 },
 "nbformat": 4,
 "nbformat_minor": 4
}
